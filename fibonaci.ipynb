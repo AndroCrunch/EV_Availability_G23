{
 "cells": [
  {
   "cell_type": "code",
   "execution_count": 1,
   "metadata": {},
   "outputs": [],
   "source": [
    "class FibInter:\n",
    "    def __init__(self, n):\n",
    "        self.n = n\n",
    "        self.a = 0\n",
    "        self.b = 1\n",
    "        self.count = 0\n",
    "\n",
    "    def __iter__(self):\n",
    "        return self\n",
    "\n",
    "    def __next__(self):\n",
    "        if self.count >= self.n:\n",
    "            raise StopIteration\n",
    "        self.count += 1\n",
    "        if self.count == 1:\n",
    "            return self.a\n",
    "        if self.count == 2:\n",
    "            return self.b\n",
    "        fib = self.a + self.b\n",
    "        self.a, self.b = self.b, fib\n",
    "        return fib"
   ]
  },
  {
   "cell_type": "code",
   "execution_count": 2,
   "metadata": {},
   "outputs": [
    {
     "name": "stdout",
     "output_type": "stream",
     "text": [
      "<__main__.FibInter object at 0x105adf890>\n"
     ]
    }
   ],
   "source": [
    "fib = FibInter(5)\n",
    "print(fib)"
   ]
  },
  {
   "cell_type": "code",
   "execution_count": 3,
   "metadata": {},
   "outputs": [],
   "source": [
    "def stemmer(text):\n",
    "    words = text.split()\n",
    "    for i in range(len(words)):\n",
    "        word = words[i]\n",
    "        for suffix in ('ed', 'ly', 'ing'):\n",
    "            if word.endswith(suffix):\n",
    "                word = word[:-len(suffix)]\n",
    "                break\n",
    "        if len(word) > 8:\n",
    "            word = word[:8]\n",
    "        words[i] = word\n",
    "    return ' '.join(words)"
   ]
  },
  {
   "cell_type": "markdown",
   "metadata": {},
   "source": [
    "The choice between asyncio.create_task(), asyncio.ensure_future(), and await depends on what you're trying to achieve in your asynchronous Python code.\n",
    "\n",
    "asyncio.create_task(coro, *, name=None): This is the preferred way to schedule the execution of a coroutine in Python 3.7 and later. It returns a Task object that you can await on to get the result of the coroutine. Use this when you want to start a coroutine and don't need the result immediately, but will need it in the future.\n",
    "\n",
    "asyncio.ensure_future(coro_or_future, *, loop=None): This is a lower-level function that also schedules a coroutine for execution, but it works with both coroutines and Future-like objects. It's more flexible, but usually not necessary unless you're working with older code that uses Future objects or you're writing library code that needs to accept both coroutines and Futures.\n",
    "\n",
    "await: This keyword is used in an async function to wait for the completion of the call to another async function (or any awaitable object). Use this when you have a coroutine and you want to wait for it to finish and get its result immediately.\n",
    "\n",
    "In most cases, you'll be using await in your async functions to call other async functions, and asyncio.create_task() when you want to schedule a coroutine to start running but don't need its result right away.\n",
    "\n",
    "######---\n",
    "In Python's asyncio library:\n",
    "\n",
    "asyncio.create_task(coro, *, name=None): This function is used to schedule the execution of a coroutine object: it wraps it in a Task (which is a subclass of Future) and schedules it to run on the event loop. The Task object is returned. This function is the preferred way to create new Tasks in Python 3.7 and later.\n",
    "\n",
    "asyncio.ensure_future(coro_or_future, *, loop=None): This function is also used to schedule the execution of a coroutine object: it wraps it in a Future object and schedules it to run on the event loop. If the argument is a Future, it is returned directly. This function is a lower-level version of create_task() and works in earlier versions of Python.\n",
    "\n",
    "await: This keyword is used in an async function to wait for the completion of the call to another async function (or any awaitable object). It allows other tasks to run while waiting. For example, in result = await some_async_function(), the async function some_async_function is called, and then execution is suspended until it completes. The result of the function (or the exception it raised) is then returned (or re-raised).\n",
    "\n",
    "In summary, create_task and ensure_future are used to schedule the execution of coroutines as Tasks/Futures, while await is used to wait for the completion of these Tasks/Futures or other awaitable objects."
   ]
  },
  {
   "cell_type": "markdown",
   "metadata": {},
   "source": [
    "asyncio.ensure_future() is a function in Python's asyncio library that schedules the execution of a coroutine object: it wraps it in a Future object and schedules it to run on the event loop.\n",
    "\n",
    "Here's a basic example of how you might use asyncio.ensure_future():\n",
    "\n",
    "In this example, my_coroutine() is a simple coroutine that waits for 1 second and then prints a message. asyncio.ensure_future(my_coroutine()) wraps this coroutine in a Future object and schedules it to run on the event loop. loop.run_until_complete(task) then runs the event loop until the task completes.\n",
    "\n",
    "It's important to note that asyncio.ensure_future() is not a way to run a coroutine in the background while doing other things. It simply schedules the coroutine to run on the event loop. If you want to run other tasks concurrently, you should use asyncio.gather() or asyncio.wait()."
   ]
  },
  {
   "cell_type": "code",
   "execution_count": null,
   "metadata": {},
   "outputs": [],
   "source": []
  },
  {
   "cell_type": "markdown",
   "metadata": {},
   "source": [
    "In Ansible, you can print the name and status of each server using the debug module along with a loop. Here's an example:\n",
    "\n",
    "  tasks:\n",
    "In this example, DC1 is a dictionary with a list of servers. Each server is a dictionary with a name and status. The debug task will print the name and status of each server. The loop keyword is used to iterate over the list of servers. The item.name and item.status inside the msg are variables that hold the name and status of the current server in the loop."
   ]
  },
  {
   "cell_type": "markdown",
   "metadata": {},
   "source": [
    "In Ansible, you can print the name of an item in a dictionary using the debug module along with the with_dict loop. Here's an example:\n",
    "\n",
    "In this example, my_dict is a dictionary with three items. The debug task will print the key of each item in the dictionary. The with_dict loop is used to iterate over the dictionary. The"
   ]
  },
  {
   "cell_type": "markdown",
   "metadata": {},
   "source": [
    "Multiple transactions in a relational database waiting for each other is a scenario known as a deadlock.\n",
    "\n",
    "A deadlock occurs when two or more transactions indefinitely wait for each other to release resources. For example, if Transaction A holds Resource 1 and needs Resource 2, and Transaction B holds Resource 2 and needs Resource 1, neither can proceed, and they will wait for each other indefinitely. Most DBMS have deadlock detection mechanisms and resolve them by aborting one of the transactions and rolling back its changes.\n",
    "\n",
    "Underprovisioning and replication lag are different concepts:\n",
    "\n",
    "Underprovisioning refers to a situation where there are insufficient resources (like CPU, memory, storage) to handle the workload, leading to performance issues.\n",
    "\n",
    "Replication lag refers to the delay between an action happening on the primary database and that action being copied to a replica database in a replication setup. This can lead to temporary inconsistencies between the databases."
   ]
  },
  {
   "cell_type": "markdown",
   "metadata": {},
   "source": [
    "The Physical Layer is the first and lowest layer of the Open Systems Interconnection (OSI) Model. The Physical Layer is concerned with the transmission and reception of the unstructured raw bit stream over a physical medium. It describes the electrical/optical, mechanical, and functional interfaces to the physical medium, and carries the signals for all of the higher layers.\n",
    "\n",
    "Here are some of the key responsibilities of the Physical Layer:\n",
    "\n",
    "Physical Characteristics of Interfaces and Media: The Physical Layer defines the characteristics of the interface between the devices and the transmission medium. This includes the type of cable, plug, and the physical layout of the pins.\n",
    "\n",
    "Representation of Bits: The Physical Layer data consists of a stream of bits (0s and 1s) with no interpretation. For transmission, these bits must be encoded into signals that can be transmitted over the network cable.\n",
    "\n",
    "Data Rate: The transmission rate — the number of bits sent each second — is also defined by the Physical Layer.\n",
    "\n",
    "Synchronization of Bits: The sender and receiver not only must agree on the format of the data sent, but also at the bit level. The Physical Layer provides the synchronization of these bits.\n",
    "\n",
    "Line Configuration: The Physical Layer is concerned with the connections of devices to media. In a point-to-point configuration, two devices are connected together. In a multipoint configuration, more than two devices share the medium.\n",
    "\n",
    "Physical Topology: This refers to the way in which devices are connected to make a network. Devices can be connected by a mesh topology (every device is connected to every other), a star topology (devices are connected through a central device), a ring topology (each device is connected to the next, forming a ring), or a bus topology (each device is connected to a common backbone).\n",
    "\n",
    "Transmission Mode: This refers to the direction of signal flow between two linked devices. It could be simplex (one direction), half-duplex (both directions, but not at the same time), or full-duplex (both directions simultaneously)."
   ]
  },
  {
   "cell_type": "markdown",
   "metadata": {},
   "source": [
    "Yes, UDP (User Datagram Protocol) is a connectionless protocol. This means that it doesn't establish a connection before sending data, it just sends. Because of this, UDP is sometimes referred to as a \"fire-and-forget\" protocol.\n",
    "\n",
    "In contrast to TCP (Transmission Control Protocol), which establishes a connection and ensures that the other end receives any packets sent, UDP does not guarantee any delivery of packets. It doesn't require any acknowledgement that the data has been received.\n",
    "\n",
    "This makes UDP faster and more efficient for many lightweight or time-sensitive purposes. Also, packet delivery order is not guaranteed in UDP.\n",
    "\n",
    "UDP is commonly used in applications such as video streaming and online gaming, where losing some packets is preferable to waiting for delayed data."
   ]
  },
  {
   "cell_type": "markdown",
   "metadata": {},
   "source": [
    "Both TCP (Transmission Control Protocol) and UDP (User Datagram Protocol) are protocols used for sending bits of data — known as packets — over the Internet. They are built on top of the Internet Protocol (IP) and both have their unique characteristics.\n",
    "\n",
    "TCP is a connection-oriented protocol and it requires handshaking to set up end-to-end communications. Once a connection is set up, data can be sent bidirectionally over the connection. TCP is reliable as it guarantees delivery of packets in the same order they were sent. It does this through a method called \"positive acknowledgement with re-transmission\", where the receiving end communicates back to the sender that it has received the data. If the sender does not get a correct response, it will resend the packets to ensure the recipient receives them. Packets are also checked for errors. TCP is used where reliability is more important than speed, such as web servers, email, file transfers.\n",
    "\n",
    "UDP is a simpler, connectionless Internet protocol. Multiple messages are sent as packets in chunks using UDP. Delivery and order of packets are not guaranteed in UDP which makes it faster. UDP is used where speed is desirable and error correction is not necessary. For example, UDP is frequently used for live broadcasts and online games.\n",
    "\n",
    "So, in terms of raw speed, UDP is faster than TCP. But remember, the speed at which a packet travels is just one part of performance. Depending on the use case, the reliability that TCP offers can be more beneficial than the speed increase UDP might provide."
   ]
  },
  {
   "cell_type": "markdown",
   "metadata": {},
   "source": [
    "root chown: The chown command in Unix and Linux is used to change the owner and group of files, directories and links. When used with root, it means that the root user is changing the ownership. For example, chown root:root filename would change both the owner and group of filename to root.\n",
    "\n",
    "root crp: It seems like crp might be a typo as it's not a standard Unix or Linux command. If you meant cp, then root cp would mean that the root user is copying files or directories. For example, cp source destination would copy the source file to the destination.\n",
    "\n",
    "-u root scp -i: The scp command in Unix and Linux is used to securely copy files and directories between hosts on a network. The -u root option is not valid for scp. If you want to specify the user, you do it in the form user@host:path. The -i option allows you to specify the identity file (private key) that scp should use for the connection. For example, scp -i key.pem root@host:path/to/file destination would copy a file from a remote host as the root user to a local destination, using key.pem as the identity file."
   ]
  },
  {
   "cell_type": "markdown",
   "metadata": {},
   "source": [
    "Inode exhaustion occurs when all the inode entries in a filesystem are used up and no new files can be created until some are deleted.\n",
    "\n",
    "Inodes are data structures in a Unix-style file system that store information about files and directories. Each file or directory has an inode that contains metadata about the file, such as its size, owner, creation time, access permissions, and the location of the file's data blocks.\n",
    "\n",
    "The number of inodes in a filesystem is determined when the filesystem is created. If the filesystem runs out of inodes, no new files can be created there, even if there is still space available.\n",
    "\n",
    "To avoid inode exhaustion, you can:\n",
    "\n",
    "Regularly clean up unnecessary files.\n",
    "\n",
    "Increase the number of inodes when creating the filesystem.\n",
    "Use a filesystem that dynamically allocates inodes, such as XFS or Btrfs."
   ]
  }
 ],
 "metadata": {
  "kernelspec": {
   "display_name": "Python 3",
   "language": "python",
   "name": "python3"
  },
  "language_info": {
   "codemirror_mode": {
    "name": "ipython",
    "version": 3
   },
   "file_extension": ".py",
   "mimetype": "text/x-python",
   "name": "python",
   "nbconvert_exporter": "python",
   "pygments_lexer": "ipython3",
   "version": "3.11.5"
  }
 },
 "nbformat": 4,
 "nbformat_minor": 2
}
